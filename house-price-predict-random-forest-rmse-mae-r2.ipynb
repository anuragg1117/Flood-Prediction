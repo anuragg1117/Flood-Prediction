{
 "cells": [
  {
   "cell_type": "markdown",
   "id": "aff3bc28",
   "metadata": {
    "papermill": {
     "duration": 0.016131,
     "end_time": "2023-07-15T14:22:37.703693",
     "exception": false,
     "start_time": "2023-07-15T14:22:37.687562",
     "status": "completed"
    },
    "tags": []
   },
   "source": [
    "## **This code incorporates various techniques for preprocessing, feature engineering, model selection, hyperparameter tuning, and evaluation.**"
   ]
  },
  {
   "cell_type": "markdown",
   "id": "167b3894",
   "metadata": {
    "papermill": {
     "duration": 0.011676,
     "end_time": "2023-07-15T14:22:37.727453",
     "exception": false,
     "start_time": "2023-07-15T14:22:37.715777",
     "status": "completed"
    },
    "tags": []
   },
   "source": [
    "This code incorporates the following steps:\n",
    "\n",
    "1. Load the dataset and split it into features and target variable.\n",
    "2. Create separate preprocessing pipelines for numeric and categorical features, handling missing values and performing scaling and encoding.\n",
    "3. Combine the preprocessing pipelines using the ColumnTransformer.\n",
    "4. Create a feature selection transformer to select the most relevant features.\n",
    "5. Define a random forest regressor as the underlying model for prediction.\n",
    "6. Create a pipeline that includes the preprocessing, feature selection, and regression steps.\n",
    "7. Define a parameter grid to search over for hyperparameter tuning.\n",
    "8. Perform a grid search using cross-validation to find the best combination of hyperparameters.\n",
    "9. Get the best model from the grid search.\n",
    "10. Make predictions on the testing data using the best model.\n",
    "11. Calculate evaluation metrics including RMSE, MAE, and R-squared."
   ]
  },
  {
   "cell_type": "markdown",
   "id": "0cf92357",
   "metadata": {
    "papermill": {
     "duration": 0.011231,
     "end_time": "2023-07-15T14:22:37.750853",
     "exception": false,
     "start_time": "2023-07-15T14:22:37.739622",
     "status": "completed"
    },
    "tags": []
   },
   "source": [
    "### Import librares"
   ]
  },
  {
   "cell_type": "code",
   "execution_count": null,
   "id": "3d1c4731",
   "metadata": {
    "execution": {
     "iopub.execute_input": "2023-07-15T14:22:37.777614Z",
     "iopub.status.busy": "2023-07-15T14:22:37.777007Z",
     "iopub.status.idle": "2023-07-15T14:22:39.771354Z",
     "shell.execute_reply": "2023-07-15T14:22:39.770220Z"
    },
    "papermill": {
     "duration": 2.011909,
     "end_time": "2023-07-15T14:22:39.774486",
     "exception": false,
     "start_time": "2023-07-15T14:22:37.762577",
     "status": "completed"
    },
    "tags": []
   },
   "outputs": [
    {
     "name": "stderr",
     "output_type": "stream",
     "text": [
      "/opt/conda/lib/python3.10/site-packages/scipy/__init__.py:146: UserWarning: A NumPy version >=1.16.5 and <1.23.0 is required for this version of SciPy (detected version 1.23.5\n",
      "  warnings.warn(f\"A NumPy version >={np_minversion} and <{np_maxversion}\"\n"
     ]
    }
   ],
   "source": [
    "import numpy as np\n",
    "import pandas as pd\n",
    "\n",
    "from sklearn.pipeline import Pipeline\n",
    "from sklearn.impute import SimpleImputer\n",
    "from sklearn.compose import ColumnTransformer\n",
    "from sklearn.ensemble import RandomForestRegressor\n",
    "from sklearn.preprocessing import StandardScaler, OneHotEncoder\n",
    "from sklearn.feature_selection import SelectKBest, f_regression\n",
    "from sklearn.model_selection import train_test_split, GridSearchCV\n",
    "from sklearn.metrics import mean_squared_error, mean_absolute_error, r2_score\n",
    "from sklearn.linear_model import LinearRegression\n",
    "from sklearn.ensemble import GradientBoostingRegressor\n",
    "from xgboost import XGBRegressor"
   ]
  },
  {
   "cell_type": "markdown",
   "id": "2a6e8758",
   "metadata": {
    "papermill": {
     "duration": 0.0123,
     "end_time": "2023-07-15T14:22:39.799676",
     "exception": false,
     "start_time": "2023-07-15T14:22:39.787376",
     "status": "completed"
    },
    "tags": []
   },
   "source": [
    "### **1.** Load the dataset and split it into features and target variable."
   ]
  },
  {
   "cell_type": "markdown",
   "id": "69826538",
   "metadata": {
    "papermill": {
     "duration": 0.011517,
     "end_time": "2023-07-15T14:22:39.823231",
     "exception": false,
     "start_time": "2023-07-15T14:22:39.811714",
     "status": "completed"
    },
    "tags": []
   },
   "source": [
    "This code snippet performs data loading, preprocessing, and data splitting to prepare the dataset for house price prediction using advanced regression techniques. The main steps are as follows:\n",
    "\n",
    "1. Load the dataset from a CSV file located in the '/kaggle/input/house-prices-advanced-regression-techniques/' directory and store it in the 'data' variable.\n",
    "2. Select only the numeric columns from the dataset, discarding non-numeric columns, to create a subset of the data that contains features and the target variable.\n",
    "3. Split the dataset into features 'X' (all columns except 'SalePrice') and the target variable 'y' (which is 'SalePrice').\n",
    "4.  one-hot encoding for categorical variables in 'X' using 'pd.get_dummies()' to convert them into numerical format.\n",
    "5. Split the preprocessed dataset into training and testing sets using 'train_test_split' from 'sklearn.model_selection'. The training set consists of 80% of the data, and the testing set contains 20% of the data. The random_state is set to 42 for reproducibility.\n",
    "\n",
    "After this code snippet, the data is ready for further processing, including the creation of a machine learning model, hyperparameter tuning, and evaluation using metrics like Mean Squared Error (MSE), Root Mean Squared Error (RMSE), Mean Absolute Error (MAE), and R-squared."
   ]
  },
  {
   "cell_type": "code",
   "execution_count": null,
   "id": "7b38cae5",
   "metadata": {
    "execution": {
     "iopub.execute_input": "2023-07-15T14:22:39.850253Z",
     "iopub.status.busy": "2023-07-15T14:22:39.849516Z",
     "iopub.status.idle": "2023-07-15T14:22:39.933934Z",
     "shell.execute_reply": "2023-07-15T14:22:39.932473Z"
    },
    "papermill": {
     "duration": 0.101001,
     "end_time": "2023-07-15T14:22:39.936793",
     "exception": false,
     "start_time": "2023-07-15T14:22:39.835792",
     "status": "completed"
    },
    "tags": []
   },
   "outputs": [],
   "source": [
    "# Load the dataset\n",
    "data = pd.read_csv('/kaggle/input/house-prices-advanced-regression-techniques/train.csv')\n",
    "data = data.select_dtypes(include='number')\n",
    "\n",
    "# Split the data into features (X) and target variable (y)\n",
    "X = data.drop('SalePrice', axis=1)\n",
    "y = data['SalePrice']\n",
    "\n",
    "# Perform one-hot encoding for categorical variables\n",
    "X_encoded = pd.get_dummies(X)\n",
    "\n",
    "# Split the data into training and testing sets\n",
    "X_train, X_test, y_train, y_test = train_test_split(X_encoded, y, test_size=0.2, random_state=42)"
   ]
  },
  {
   "cell_type": "markdown",
   "id": "10412f55",
   "metadata": {
    "papermill": {
     "duration": 0.011094,
     "end_time": "2023-07-15T14:22:39.959597",
     "exception": false,
     "start_time": "2023-07-15T14:22:39.948503",
     "status": "completed"
    },
    "tags": []
   },
   "source": [
    "### **2.** Create separate preprocessing pipelines for numeric and categorical features, handling missing values and performing scaling and encoding."
   ]
  },
  {
   "cell_type": "markdown",
   "id": "9ae43e39",
   "metadata": {
    "papermill": {
     "duration": 0.011072,
     "end_time": "2023-07-15T14:22:39.982097",
     "exception": false,
     "start_time": "2023-07-15T14:22:39.971025",
     "status": "completed"
    },
    "tags": []
   },
   "source": [
    "This code snippet creates preprocessing pipelines for both numeric and categorical features to prepare the data for training a machine learning model:\n",
    "\n",
    "1. For numeric features:\n",
    "   - `numeric_features` stores the names of columns with numeric data types (float64 and int64) in the 'X' dataset.\n",
    "   - The `numeric_pipeline` is created as a sequence of preprocessing steps using 'Pipeline' from 'sklearn.pipeline':\n",
    "     - 'imputer': It uses 'SimpleImputer' with the 'median' strategy to fill missing values in numeric features with the median of the respective columns.\n",
    "     - 'scaler': It uses 'StandardScaler' to standardize the numeric features by subtracting the mean and scaling to unit variance.\n",
    "\n",
    "2. For categorical features:\n",
    "   - `categorical_features` stores the names of columns with object data type (categorical) in the 'X' dataset.\n",
    "   - The `categorical_pipeline` is created as a sequence of preprocessing steps using 'Pipeline':\n",
    "     - 'imputer': It uses 'SimpleImputer' with the 'most_frequent' strategy to fill missing values in categorical features with the most frequent value of the respective columns.\n",
    "     - 'encoder': It uses 'OneHotEncoder' to perform one-hot encoding on the categorical features, converting them into binary vectors.\n",
    "\n",
    "These preprocessing pipelines will be applied to the respective feature types during the data transformation step, ensuring that the data is appropriately handled before training the machine learning model."
   ]
  },
  {
   "cell_type": "code",
   "execution_count": null,
   "id": "2ab66bae",
   "metadata": {
    "execution": {
     "iopub.execute_input": "2023-07-15T14:22:40.007639Z",
     "iopub.status.busy": "2023-07-15T14:22:40.007127Z",
     "iopub.status.idle": "2023-07-15T14:22:40.017437Z",
     "shell.execute_reply": "2023-07-15T14:22:40.016123Z"
    },
    "papermill": {
     "duration": 0.025965,
     "end_time": "2023-07-15T14:22:40.019919",
     "exception": false,
     "start_time": "2023-07-15T14:22:39.993954",
     "status": "completed"
    },
    "tags": []
   },
   "outputs": [],
   "source": [
    "# Create preprocessing pipelines for numeric and categorical features\n",
    "numeric_features = X.select_dtypes(include=['float64', 'int64']).columns\n",
    "numeric_pipeline = Pipeline([\n",
    "    ('imputer', SimpleImputer(strategy='median')),\n",
    "    ('scaler', StandardScaler())\n",
    "])\n",
    "\n",
    "categorical_features = X.select_dtypes(include=['object']).columns\n",
    "categorical_pipeline = Pipeline([\n",
    "    ('imputer', SimpleImputer(strategy='most_frequent')),\n",
    "    ('encoder', OneHotEncoder(handle_unknown='ignore'))\n",
    "])"
   ]
  },
  {
   "cell_type": "markdown",
   "id": "4974a7d1",
   "metadata": {
    "papermill": {
     "duration": 0.012619,
     "end_time": "2023-07-15T14:22:40.044155",
     "exception": false,
     "start_time": "2023-07-15T14:22:40.031536",
     "status": "completed"
    },
    "tags": []
   },
   "source": [
    "### **3.** Combine the preprocessing pipelines using the ColumnTransformer."
   ]
  },
  {
   "cell_type": "markdown",
   "id": "e71c96b0",
   "metadata": {
    "papermill": {
     "duration": 0.011062,
     "end_time": "2023-07-15T14:22:40.067309",
     "exception": false,
     "start_time": "2023-07-15T14:22:40.056247",
     "status": "completed"
    },
    "tags": []
   },
   "source": [
    "In this code snippet, the preprocessing pipelines for numeric and categorical features are combined using `ColumnTransformer` to create an integrated preprocessing step that handles both types of features.\n",
    "\n",
    "The `ColumnTransformer` allows you to apply different preprocessing steps to different subsets of the features in the dataset. It takes a list of transformers, where each transformer is associated with a specific set of features.\n",
    "\n",
    "In this case:\n",
    "- The `numeric_pipeline` is associated with the numeric features specified in `numeric_features`.\n",
    "- The `categorical_pipeline` is associated with the categorical features specified in `categorical_features`.\n",
    "\n",
    "During the data transformation, the `preprocessor` will apply the appropriate preprocessing steps to each subset of features based on their types (numeric or categorical). This ensures that the data is correctly processed before feeding it into the machine learning model."
   ]
  },
  {
   "cell_type": "code",
   "execution_count": null,
   "id": "1e1d6a55",
   "metadata": {
    "execution": {
     "iopub.execute_input": "2023-07-15T14:22:40.092279Z",
     "iopub.status.busy": "2023-07-15T14:22:40.091751Z",
     "iopub.status.idle": "2023-07-15T14:22:40.097688Z",
     "shell.execute_reply": "2023-07-15T14:22:40.096464Z"
    },
    "papermill": {
     "duration": 0.021556,
     "end_time": "2023-07-15T14:22:40.100255",
     "exception": false,
     "start_time": "2023-07-15T14:22:40.078699",
     "status": "completed"
    },
    "tags": []
   },
   "outputs": [],
   "source": [
    "# Combine the preprocessing pipelines\n",
    "preprocessor = ColumnTransformer([\n",
    "    ('numeric', numeric_pipeline, numeric_features),\n",
    "    ('categorical', categorical_pipeline, categorical_features)\n",
    "])"
   ]
  },
  {
   "cell_type": "markdown",
   "id": "e642a51e",
   "metadata": {
    "papermill": {
     "duration": 0.011324,
     "end_time": "2023-07-15T14:22:40.123135",
     "exception": false,
     "start_time": "2023-07-15T14:22:40.111811",
     "status": "completed"
    },
    "tags": []
   },
   "source": [
    "### **4.** Create a feature selection transformer to select the most relevant features."
   ]
  },
  {
   "cell_type": "markdown",
   "id": "6540a0e4",
   "metadata": {
    "papermill": {
     "duration": 0.011056,
     "end_time": "2023-07-15T14:22:40.145633",
     "exception": false,
     "start_time": "2023-07-15T14:22:40.134577",
     "status": "completed"
    },
    "tags": []
   },
   "source": [
    "In this code snippet, a feature selection transformer is created to select the most relevant features from the dataset before training the machine learning model:\n",
    "\n",
    "\n",
    "The `SelectKBest` is a feature selection technique from `sklearn.feature_selection`. It is a univariate feature selection method that evaluates each feature independently and selects the top 'K' features based on their statistical significance and relationship with the target variable.\n",
    "\n",
    "- The `score_func` is set to `f_regression`, which is the score function used to evaluate the relevance of features for regression problems. It computes the F-value and p-value for each feature based on the linear regression model between the feature and the target variable.\n",
    "\n",
    "- After creating the `feature_selector`, it can be incorporated into the machine learning pipeline to automatically select the 'K' most informative features during the model training process.\n",
    "\n",
    "By using `SelectKBest` feature selection, the model can focus on the most relevant features, potentially improving the model's performance and reducing overfitting. The choice of 'K' (the number of top features to select) can be adjusted based on the dataset and the model's complexity requirements."
   ]
  },
  {
   "cell_type": "code",
   "execution_count": null,
   "id": "53f03197",
   "metadata": {
    "execution": {
     "iopub.execute_input": "2023-07-15T14:22:40.170839Z",
     "iopub.status.busy": "2023-07-15T14:22:40.170325Z",
     "iopub.status.idle": "2023-07-15T14:22:40.176009Z",
     "shell.execute_reply": "2023-07-15T14:22:40.174786Z"
    },
    "papermill": {
     "duration": 0.02116,
     "end_time": "2023-07-15T14:22:40.178218",
     "exception": false,
     "start_time": "2023-07-15T14:22:40.157058",
     "status": "completed"
    },
    "tags": []
   },
   "outputs": [],
   "source": [
    "# Create a feature selection transformer\n",
    "feature_selector = SelectKBest(score_func=f_regression)"
   ]
  },
  {
   "cell_type": "markdown",
   "id": "c9508d75",
   "metadata": {
    "papermill": {
     "duration": 0.011092,
     "end_time": "2023-07-15T14:22:40.200862",
     "exception": false,
     "start_time": "2023-07-15T14:22:40.189770",
     "status": "completed"
    },
    "tags": []
   },
   "source": [
    "### **5.** Define a random forest regressor as the underlying model for prediction."
   ]
  },
  {
   "cell_type": "markdown",
   "id": "42a3aaa6",
   "metadata": {
    "papermill": {
     "duration": 0.011159,
     "end_time": "2023-07-15T14:22:40.223467",
     "exception": false,
     "start_time": "2023-07-15T14:22:40.212308",
     "status": "completed"
    },
    "tags": []
   },
   "source": [
    "In this code snippet, a Random Forest Regressor is created to serve as the machine learning model for predicting house prices:\n",
    "\n",
    "The `RandomForestRegressor` is a powerful ensemble learning algorithm from `sklearn.ensemble` that utilizes an ensemble of decision trees to perform regression tasks. It works by constructing multiple decision trees during training and then combining their predictions to make a final prediction.\n",
    "\n",
    "- The `RandomForestRegressor` is well-suited for regression problems, like predicting house prices, as it can handle both numeric and categorical features, and it tends to provide robust and accurate predictions.\n",
    "\n",
    "- The regressor is initialized with default hyperparameters, but you can further customize its behavior by tuning hyperparameters, such as the number of trees (`n_estimators`), the maximum depth of the trees (`max_depth`), and other options like feature importance estimation.\n",
    "\n",
    "- Once the regressor is created, it can be incorporated into the machine learning pipeline, along with the preprocessing steps and feature selection, to build an end-to-end predictive model for house prices based on the given dataset.\n",
    "\n",
    "Overall, the Random Forest Regressor is a popular and versatile choice for regression tasks, and it is expected to perform well in predicting house prices due to its ability to capture complex relationships in the data and handle a wide range of features."
   ]
  },
  {
   "cell_type": "code",
   "execution_count": null,
   "id": "6e3a8f02",
   "metadata": {
    "execution": {
     "iopub.execute_input": "2023-07-15T14:22:40.248979Z",
     "iopub.status.busy": "2023-07-15T14:22:40.248218Z",
     "iopub.status.idle": "2023-07-15T14:22:40.253108Z",
     "shell.execute_reply": "2023-07-15T14:22:40.252154Z"
    },
    "papermill": {
     "duration": 0.020224,
     "end_time": "2023-07-15T14:22:40.255273",
     "exception": false,
     "start_time": "2023-07-15T14:22:40.235049",
     "status": "completed"
    },
    "tags": []
   },
   "outputs": [],
   "source": [
    "# Create a random forest regressor\n",
    "regressor = RandomForestRegressor()"
   ]
  },
  {
   "cell_type": "markdown",
   "id": "4e382d8a",
   "metadata": {
    "papermill": {
     "duration": 0.011062,
     "end_time": "2023-07-15T14:22:40.277874",
     "exception": false,
     "start_time": "2023-07-15T14:22:40.266812",
     "status": "completed"
    },
    "tags": []
   },
   "source": [
    "### **6.** Create a pipeline that includes the preprocessing, feature selection, and regression steps."
   ]
  },
  {
   "cell_type": "markdown",
   "id": "f690875a",
   "metadata": {
    "papermill": {
     "duration": 0.011073,
     "end_time": "2023-07-15T14:22:40.300429",
     "exception": false,
     "start_time": "2023-07-15T14:22:40.289356",
     "status": "completed"
    },
    "tags": []
   },
   "source": [
    "In this code snippet, a machine learning pipeline is created by combining the previously defined preprocessing steps, feature selection, and the Random Forest Regressor into a cohesive sequence:\n",
    "\n",
    "\n",
    "The pipeline allows you to streamline the entire machine learning workflow, from data preprocessing to model training and prediction, in a concise and organized manner.\n",
    "\n",
    "- The `preprocessor` is the `ColumnTransformer` that was defined earlier. It handles the transformation of the dataset, applying the appropriate preprocessing steps to numeric and categorical features.\n",
    "\n",
    "- The `feature_selector` is the `SelectKBest` feature selection transformer that was also defined earlier. It selects the most relevant features based on their statistical significance.\n",
    "\n",
    "- The `regressor` is the `RandomForestRegressor` machine learning model that was instantiated earlier. It performs the regression task, predicting house prices based on the selected features.\n",
    "\n",
    "By combining these steps into a pipeline, you can conveniently apply them in sequence, ensuring consistent data processing and model training. Later, this pipeline can be used for both training and making predictions on new data efficiently, and it simplifies the process of tuning hyperparameters or incorporating additional preprocessing steps into the model."
   ]
  },
  {
   "cell_type": "code",
   "execution_count": null,
   "id": "a29028c9",
   "metadata": {
    "execution": {
     "iopub.execute_input": "2023-07-15T14:22:40.326047Z",
     "iopub.status.busy": "2023-07-15T14:22:40.325239Z",
     "iopub.status.idle": "2023-07-15T14:22:40.330288Z",
     "shell.execute_reply": "2023-07-15T14:22:40.329331Z"
    },
    "papermill": {
     "duration": 0.020878,
     "end_time": "2023-07-15T14:22:40.332741",
     "exception": false,
     "start_time": "2023-07-15T14:22:40.311863",
     "status": "completed"
    },
    "tags": []
   },
   "outputs": [],
   "source": [
    "# Create a pipeline\n",
    "pipeline = Pipeline([\n",
    "    ('preprocessor', preprocessor),\n",
    "    ('feature_selector', feature_selector),\n",
    "    ('regressor', regressor)\n",
    "])"
   ]
  },
  {
   "cell_type": "markdown",
   "id": "94320fe7",
   "metadata": {
    "papermill": {
     "duration": 0.011104,
     "end_time": "2023-07-15T14:22:40.355547",
     "exception": false,
     "start_time": "2023-07-15T14:22:40.344443",
     "status": "completed"
    },
    "tags": []
   },
   "source": [
    "### **7.** Define a parameter grid to search over for hyperparameter tuning."
   ]
  },
  {
   "cell_type": "markdown",
   "id": "58a397cf",
   "metadata": {
    "papermill": {
     "duration": 0.011274,
     "end_time": "2023-07-15T14:22:40.378405",
     "exception": false,
     "start_time": "2023-07-15T14:22:40.367131",
     "status": "completed"
    },
    "tags": []
   },
   "source": [
    "In this code snippet, a grid of hyperparameters is defined to perform a hyperparameter search using GridSearchCV:\n",
    "\n",
    "\n",
    "The `param_grid` is a dictionary containing hyperparameter names as keys and lists of hyperparameter values to be searched over. The hyperparameters specified in the `param_grid` are specific to the `feature_selector` and `regressor` steps within the pipeline.\n",
    "\n",
    "- `'feature_selector__k'`: This hyperparameter controls the number of top features to select from the dataset using the `SelectKBest` feature selection. It is set to be searched over three values: 10, 20, and 30.\n",
    "\n",
    "- `'regressor__n_estimators'`: This hyperparameter determines the number of decision trees to create in the Random Forest Regressor. The grid search will try three values: 100, 200, and 300.\n",
    "\n",
    "- `'regressor__max_depth'`: This hyperparameter specifies the maximum depth of the decision trees in the Random Forest Regressor. The grid search will explore three options: None (unlimited depth), 5, and 10.\n",
    "\n",
    "By performing a grid search with these hyperparameter combinations, the pipeline will evaluate different model configurations, selecting the best combination of hyperparameters based on cross-validated performance. The result will be a model that is optimized for predicting house prices with the most appropriate number of selected features, number of estimators, and maximum depth of trees."
   ]
  },
  {
   "cell_type": "code",
   "execution_count": null,
   "id": "54722b8a",
   "metadata": {
    "execution": {
     "iopub.execute_input": "2023-07-15T14:22:40.404202Z",
     "iopub.status.busy": "2023-07-15T14:22:40.403404Z",
     "iopub.status.idle": "2023-07-15T14:22:40.409251Z",
     "shell.execute_reply": "2023-07-15T14:22:40.407927Z"
    },
    "papermill": {
     "duration": 0.021616,
     "end_time": "2023-07-15T14:22:40.411600",
     "exception": false,
     "start_time": "2023-07-15T14:22:40.389984",
     "status": "completed"
    },
    "tags": []
   },
   "outputs": [],
   "source": [
    "# Define hyperparameters to search over\n",
    "param_grid = {\n",
    "    'feature_selector__k': [10, 20, 30],  # Adjust the number of selected features\n",
    "    'regressor__n_estimators': [100, 200, 300],  # Adjust the number of estimators\n",
    "    'regressor__max_depth': [None, 5, 10]  # Adjust the maximum depth of trees\n",
    "}"
   ]
  },
  {
   "cell_type": "markdown",
   "id": "9f88b220",
   "metadata": {
    "papermill": {
     "duration": 0.010955,
     "end_time": "2023-07-15T14:22:40.433905",
     "exception": false,
     "start_time": "2023-07-15T14:22:40.422950",
     "status": "completed"
    },
    "tags": []
   },
   "source": [
    "### **8.** Perform a grid search using cross-validation to find the best combination of hyperparameters."
   ]
  },
  {
   "cell_type": "markdown",
   "id": "41868217",
   "metadata": {
    "papermill": {
     "duration": 0.01111,
     "end_time": "2023-07-15T14:22:40.456494",
     "exception": false,
     "start_time": "2023-07-15T14:22:40.445384",
     "status": "completed"
    },
    "tags": []
   },
   "source": [
    "In this code snippet, the GridSearchCV is performed to find the best hyperparameters for the machine learning pipeline:\n",
    "\n",
    "\n",
    "The `GridSearchCV` is a method from `sklearn.model_selection` that performs an exhaustive search over the specified hyperparameter grid to find the best combination of hyperparameters for the given pipeline.\n",
    "\n",
    "- `pipeline`: The machine learning pipeline that includes data preprocessing, feature selection, and the Random Forest Regressor.\n",
    "\n",
    "- `param_grid`: The hyperparameter grid that defines the combinations of hyperparameters to be searched over. This grid was defined earlier and includes various values for the number of selected features, the number of estimators, and the maximum depth of trees.\n",
    "\n",
    "- `cv=5`: The parameter `cv` determines the number of folds for cross-validation. In this case, cross-validation is performed with 5 folds, meaning the data is split into 5 parts, and the model is trained and evaluated 5 times, each time using a different part as the validation set.\n",
    "\n",
    "During the grid search process, the pipeline will be trained and evaluated with different combinations of hyperparameters using cross-validation. The best combination of hyperparameters will be determined based on the performance metrics (e.g., Mean Squared Error) on the validation folds.\n",
    "\n",
    "After the grid search is completed, the `grid_search` object will contain the best model, which is trained on the entire training set using the best hyperparameters. This best model can be accessed using `grid_search.best_estimator_`, and it will be used for making predictions on the test dataset and evaluating the model's performance."
   ]
  },
  {
   "cell_type": "code",
   "execution_count": null,
   "id": "14cd6e7f",
   "metadata": {
    "execution": {
     "iopub.execute_input": "2023-07-15T14:22:40.481324Z",
     "iopub.status.busy": "2023-07-15T14:22:40.480801Z",
     "iopub.status.idle": "2023-07-15T14:26:09.158118Z",
     "shell.execute_reply": "2023-07-15T14:26:09.156895Z"
    },
    "papermill": {
     "duration": 208.706371,
     "end_time": "2023-07-15T14:26:09.174268",
     "exception": false,
     "start_time": "2023-07-15T14:22:40.467897",
     "status": "completed"
    },
    "tags": []
   },
   "outputs": [
    {
     "data": {
      "text/html": [
       "<style>#sk-container-id-1 {color: black;background-color: white;}#sk-container-id-1 pre{padding: 0;}#sk-container-id-1 div.sk-toggleable {background-color: white;}#sk-container-id-1 label.sk-toggleable__label {cursor: pointer;display: block;width: 100%;margin-bottom: 0;padding: 0.3em;box-sizing: border-box;text-align: center;}#sk-container-id-1 label.sk-toggleable__label-arrow:before {content: \"▸\";float: left;margin-right: 0.25em;color: #696969;}#sk-container-id-1 label.sk-toggleable__label-arrow:hover:before {color: black;}#sk-container-id-1 div.sk-estimator:hover label.sk-toggleable__label-arrow:before {color: black;}#sk-container-id-1 div.sk-toggleable__content {max-height: 0;max-width: 0;overflow: hidden;text-align: left;background-color: #f0f8ff;}#sk-container-id-1 div.sk-toggleable__content pre {margin: 0.2em;color: black;border-radius: 0.25em;background-color: #f0f8ff;}#sk-container-id-1 input.sk-toggleable__control:checked~div.sk-toggleable__content {max-height: 200px;max-width: 100%;overflow: auto;}#sk-container-id-1 input.sk-toggleable__control:checked~label.sk-toggleable__label-arrow:before {content: \"▾\";}#sk-container-id-1 div.sk-estimator input.sk-toggleable__control:checked~label.sk-toggleable__label {background-color: #d4ebff;}#sk-container-id-1 div.sk-label input.sk-toggleable__control:checked~label.sk-toggleable__label {background-color: #d4ebff;}#sk-container-id-1 input.sk-hidden--visually {border: 0;clip: rect(1px 1px 1px 1px);clip: rect(1px, 1px, 1px, 1px);height: 1px;margin: -1px;overflow: hidden;padding: 0;position: absolute;width: 1px;}#sk-container-id-1 div.sk-estimator {font-family: monospace;background-color: #f0f8ff;border: 1px dotted black;border-radius: 0.25em;box-sizing: border-box;margin-bottom: 0.5em;}#sk-container-id-1 div.sk-estimator:hover {background-color: #d4ebff;}#sk-container-id-1 div.sk-parallel-item::after {content: \"\";width: 100%;border-bottom: 1px solid gray;flex-grow: 1;}#sk-container-id-1 div.sk-label:hover label.sk-toggleable__label {background-color: #d4ebff;}#sk-container-id-1 div.sk-serial::before {content: \"\";position: absolute;border-left: 1px solid gray;box-sizing: border-box;top: 0;bottom: 0;left: 50%;z-index: 0;}#sk-container-id-1 div.sk-serial {display: flex;flex-direction: column;align-items: center;background-color: white;padding-right: 0.2em;padding-left: 0.2em;position: relative;}#sk-container-id-1 div.sk-item {position: relative;z-index: 1;}#sk-container-id-1 div.sk-parallel {display: flex;align-items: stretch;justify-content: center;background-color: white;position: relative;}#sk-container-id-1 div.sk-item::before, #sk-container-id-1 div.sk-parallel-item::before {content: \"\";position: absolute;border-left: 1px solid gray;box-sizing: border-box;top: 0;bottom: 0;left: 50%;z-index: -1;}#sk-container-id-1 div.sk-parallel-item {display: flex;flex-direction: column;z-index: 1;position: relative;background-color: white;}#sk-container-id-1 div.sk-parallel-item:first-child::after {align-self: flex-end;width: 50%;}#sk-container-id-1 div.sk-parallel-item:last-child::after {align-self: flex-start;width: 50%;}#sk-container-id-1 div.sk-parallel-item:only-child::after {width: 0;}#sk-container-id-1 div.sk-dashed-wrapped {border: 1px dashed gray;margin: 0 0.4em 0.5em 0.4em;box-sizing: border-box;padding-bottom: 0.4em;background-color: white;}#sk-container-id-1 div.sk-label label {font-family: monospace;font-weight: bold;display: inline-block;line-height: 1.2em;}#sk-container-id-1 div.sk-label-container {text-align: center;}#sk-container-id-1 div.sk-container {/* jupyter's `normalize.less` sets `[hidden] { display: none; }` but bootstrap.min.css set `[hidden] { display: none !important; }` so we also need the `!important` here to be able to override the default hidden behavior on the sphinx rendered scikit-learn.org. See: https://github.com/scikit-learn/scikit-learn/issues/21755 */display: inline-block !important;position: relative;}#sk-container-id-1 div.sk-text-repr-fallback {display: none;}</style><div id=\"sk-container-id-1\" class=\"sk-top-container\"><div class=\"sk-text-repr-fallback\"><pre>GridSearchCV(cv=5,\n",
       "             estimator=Pipeline(steps=[(&#x27;preprocessor&#x27;,\n",
       "                                        ColumnTransformer(transformers=[(&#x27;numeric&#x27;,\n",
       "                                                                         Pipeline(steps=[(&#x27;imputer&#x27;,\n",
       "                                                                                          SimpleImputer(strategy=&#x27;median&#x27;)),\n",
       "                                                                                         (&#x27;scaler&#x27;,\n",
       "                                                                                          StandardScaler())]),\n",
       "                                                                         Index([&#x27;Id&#x27;, &#x27;MSSubClass&#x27;, &#x27;LotFrontage&#x27;, &#x27;LotArea&#x27;, &#x27;OverallQual&#x27;,\n",
       "       &#x27;OverallCond&#x27;, &#x27;YearBuilt&#x27;, &#x27;YearRemodAdd&#x27;, &#x27;MasVnrArea&#x27;, &#x27;BsmtFinSF1&#x27;,\n",
       "       &#x27;BsmtFinSF2&#x27;, &#x27;BsmtUnfSF&#x27;, &#x27;...\n",
       "                                                                                          SimpleImputer(strategy=&#x27;most_frequent&#x27;)),\n",
       "                                                                                         (&#x27;encoder&#x27;,\n",
       "                                                                                          OneHotEncoder(handle_unknown=&#x27;ignore&#x27;))]),\n",
       "                                                                         Index([], dtype=&#x27;object&#x27;))])),\n",
       "                                       (&#x27;feature_selector&#x27;,\n",
       "                                        SelectKBest(score_func=&lt;function f_regression at 0x7b55fa1c1ea0&gt;)),\n",
       "                                       (&#x27;regressor&#x27;, RandomForestRegressor())]),\n",
       "             param_grid={&#x27;feature_selector__k&#x27;: [10, 20, 30],\n",
       "                         &#x27;regressor__max_depth&#x27;: [None, 5, 10],\n",
       "                         &#x27;regressor__n_estimators&#x27;: [100, 200, 300]})</pre><b>In a Jupyter environment, please rerun this cell to show the HTML representation or trust the notebook. <br />On GitHub, the HTML representation is unable to render, please try loading this page with nbviewer.org.</b></div><div class=\"sk-container\" hidden><div class=\"sk-item sk-dashed-wrapped\"><div class=\"sk-label-container\"><div class=\"sk-label sk-toggleable\"><input class=\"sk-toggleable__control sk-hidden--visually\" id=\"sk-estimator-id-1\" type=\"checkbox\" ><label for=\"sk-estimator-id-1\" class=\"sk-toggleable__label sk-toggleable__label-arrow\">GridSearchCV</label><div class=\"sk-toggleable__content\"><pre>GridSearchCV(cv=5,\n",
       "             estimator=Pipeline(steps=[(&#x27;preprocessor&#x27;,\n",
       "                                        ColumnTransformer(transformers=[(&#x27;numeric&#x27;,\n",
       "                                                                         Pipeline(steps=[(&#x27;imputer&#x27;,\n",
       "                                                                                          SimpleImputer(strategy=&#x27;median&#x27;)),\n",
       "                                                                                         (&#x27;scaler&#x27;,\n",
       "                                                                                          StandardScaler())]),\n",
       "                                                                         Index([&#x27;Id&#x27;, &#x27;MSSubClass&#x27;, &#x27;LotFrontage&#x27;, &#x27;LotArea&#x27;, &#x27;OverallQual&#x27;,\n",
       "       &#x27;OverallCond&#x27;, &#x27;YearBuilt&#x27;, &#x27;YearRemodAdd&#x27;, &#x27;MasVnrArea&#x27;, &#x27;BsmtFinSF1&#x27;,\n",
       "       &#x27;BsmtFinSF2&#x27;, &#x27;BsmtUnfSF&#x27;, &#x27;...\n",
       "                                                                                          SimpleImputer(strategy=&#x27;most_frequent&#x27;)),\n",
       "                                                                                         (&#x27;encoder&#x27;,\n",
       "                                                                                          OneHotEncoder(handle_unknown=&#x27;ignore&#x27;))]),\n",
       "                                                                         Index([], dtype=&#x27;object&#x27;))])),\n",
       "                                       (&#x27;feature_selector&#x27;,\n",
       "                                        SelectKBest(score_func=&lt;function f_regression at 0x7b55fa1c1ea0&gt;)),\n",
       "                                       (&#x27;regressor&#x27;, RandomForestRegressor())]),\n",
       "             param_grid={&#x27;feature_selector__k&#x27;: [10, 20, 30],\n",
       "                         &#x27;regressor__max_depth&#x27;: [None, 5, 10],\n",
       "                         &#x27;regressor__n_estimators&#x27;: [100, 200, 300]})</pre></div></div></div><div class=\"sk-parallel\"><div class=\"sk-parallel-item\"><div class=\"sk-item\"><div class=\"sk-label-container\"><div class=\"sk-label sk-toggleable\"><input class=\"sk-toggleable__control sk-hidden--visually\" id=\"sk-estimator-id-2\" type=\"checkbox\" ><label for=\"sk-estimator-id-2\" class=\"sk-toggleable__label sk-toggleable__label-arrow\">estimator: Pipeline</label><div class=\"sk-toggleable__content\"><pre>Pipeline(steps=[(&#x27;preprocessor&#x27;,\n",
       "                 ColumnTransformer(transformers=[(&#x27;numeric&#x27;,\n",
       "                                                  Pipeline(steps=[(&#x27;imputer&#x27;,\n",
       "                                                                   SimpleImputer(strategy=&#x27;median&#x27;)),\n",
       "                                                                  (&#x27;scaler&#x27;,\n",
       "                                                                   StandardScaler())]),\n",
       "                                                  Index([&#x27;Id&#x27;, &#x27;MSSubClass&#x27;, &#x27;LotFrontage&#x27;, &#x27;LotArea&#x27;, &#x27;OverallQual&#x27;,\n",
       "       &#x27;OverallCond&#x27;, &#x27;YearBuilt&#x27;, &#x27;YearRemodAdd&#x27;, &#x27;MasVnrArea&#x27;, &#x27;BsmtFinSF1&#x27;,\n",
       "       &#x27;BsmtFinSF2&#x27;, &#x27;BsmtUnfSF&#x27;, &#x27;TotalBsmtSF&#x27;, &#x27;1stFlrSF&#x27;, &#x27;2nd...\n",
       "       &#x27;OpenPorchSF&#x27;, &#x27;EnclosedPorch&#x27;, &#x27;3SsnPorch&#x27;, &#x27;ScreenPorch&#x27;, &#x27;PoolArea&#x27;,\n",
       "       &#x27;MiscVal&#x27;, &#x27;MoSold&#x27;, &#x27;YrSold&#x27;],\n",
       "      dtype=&#x27;object&#x27;)),\n",
       "                                                 (&#x27;categorical&#x27;,\n",
       "                                                  Pipeline(steps=[(&#x27;imputer&#x27;,\n",
       "                                                                   SimpleImputer(strategy=&#x27;most_frequent&#x27;)),\n",
       "                                                                  (&#x27;encoder&#x27;,\n",
       "                                                                   OneHotEncoder(handle_unknown=&#x27;ignore&#x27;))]),\n",
       "                                                  Index([], dtype=&#x27;object&#x27;))])),\n",
       "                (&#x27;feature_selector&#x27;,\n",
       "                 SelectKBest(score_func=&lt;function f_regression at 0x7b55fa1c1ea0&gt;)),\n",
       "                (&#x27;regressor&#x27;, RandomForestRegressor())])</pre></div></div></div><div class=\"sk-serial\"><div class=\"sk-item\"><div class=\"sk-serial\"><div class=\"sk-item sk-dashed-wrapped\"><div class=\"sk-label-container\"><div class=\"sk-label sk-toggleable\"><input class=\"sk-toggleable__control sk-hidden--visually\" id=\"sk-estimator-id-3\" type=\"checkbox\" ><label for=\"sk-estimator-id-3\" class=\"sk-toggleable__label sk-toggleable__label-arrow\">preprocessor: ColumnTransformer</label><div class=\"sk-toggleable__content\"><pre>ColumnTransformer(transformers=[(&#x27;numeric&#x27;,\n",
       "                                 Pipeline(steps=[(&#x27;imputer&#x27;,\n",
       "                                                  SimpleImputer(strategy=&#x27;median&#x27;)),\n",
       "                                                 (&#x27;scaler&#x27;, StandardScaler())]),\n",
       "                                 Index([&#x27;Id&#x27;, &#x27;MSSubClass&#x27;, &#x27;LotFrontage&#x27;, &#x27;LotArea&#x27;, &#x27;OverallQual&#x27;,\n",
       "       &#x27;OverallCond&#x27;, &#x27;YearBuilt&#x27;, &#x27;YearRemodAdd&#x27;, &#x27;MasVnrArea&#x27;, &#x27;BsmtFinSF1&#x27;,\n",
       "       &#x27;BsmtFinSF2&#x27;, &#x27;BsmtUnfSF&#x27;, &#x27;TotalBsmtSF&#x27;, &#x27;1stFlrSF&#x27;, &#x27;2ndFlrSF&#x27;,\n",
       "       &#x27;LowQualFinSF&#x27;, &#x27;GrLivArea...\n",
       "       &#x27;HalfBath&#x27;, &#x27;BedroomAbvGr&#x27;, &#x27;KitchenAbvGr&#x27;, &#x27;TotRmsAbvGrd&#x27;,\n",
       "       &#x27;Fireplaces&#x27;, &#x27;GarageYrBlt&#x27;, &#x27;GarageCars&#x27;, &#x27;GarageArea&#x27;, &#x27;WoodDeckSF&#x27;,\n",
       "       &#x27;OpenPorchSF&#x27;, &#x27;EnclosedPorch&#x27;, &#x27;3SsnPorch&#x27;, &#x27;ScreenPorch&#x27;, &#x27;PoolArea&#x27;,\n",
       "       &#x27;MiscVal&#x27;, &#x27;MoSold&#x27;, &#x27;YrSold&#x27;],\n",
       "      dtype=&#x27;object&#x27;)),\n",
       "                                (&#x27;categorical&#x27;,\n",
       "                                 Pipeline(steps=[(&#x27;imputer&#x27;,\n",
       "                                                  SimpleImputer(strategy=&#x27;most_frequent&#x27;)),\n",
       "                                                 (&#x27;encoder&#x27;,\n",
       "                                                  OneHotEncoder(handle_unknown=&#x27;ignore&#x27;))]),\n",
       "                                 Index([], dtype=&#x27;object&#x27;))])</pre></div></div></div><div class=\"sk-parallel\"><div class=\"sk-parallel-item\"><div class=\"sk-item\"><div class=\"sk-label-container\"><div class=\"sk-label sk-toggleable\"><input class=\"sk-toggleable__control sk-hidden--visually\" id=\"sk-estimator-id-4\" type=\"checkbox\" ><label for=\"sk-estimator-id-4\" class=\"sk-toggleable__label sk-toggleable__label-arrow\">numeric</label><div class=\"sk-toggleable__content\"><pre>Index([&#x27;Id&#x27;, &#x27;MSSubClass&#x27;, &#x27;LotFrontage&#x27;, &#x27;LotArea&#x27;, &#x27;OverallQual&#x27;,\n",
       "       &#x27;OverallCond&#x27;, &#x27;YearBuilt&#x27;, &#x27;YearRemodAdd&#x27;, &#x27;MasVnrArea&#x27;, &#x27;BsmtFinSF1&#x27;,\n",
       "       &#x27;BsmtFinSF2&#x27;, &#x27;BsmtUnfSF&#x27;, &#x27;TotalBsmtSF&#x27;, &#x27;1stFlrSF&#x27;, &#x27;2ndFlrSF&#x27;,\n",
       "       &#x27;LowQualFinSF&#x27;, &#x27;GrLivArea&#x27;, &#x27;BsmtFullBath&#x27;, &#x27;BsmtHalfBath&#x27;, &#x27;FullBath&#x27;,\n",
       "       &#x27;HalfBath&#x27;, &#x27;BedroomAbvGr&#x27;, &#x27;KitchenAbvGr&#x27;, &#x27;TotRmsAbvGrd&#x27;,\n",
       "       &#x27;Fireplaces&#x27;, &#x27;GarageYrBlt&#x27;, &#x27;GarageCars&#x27;, &#x27;GarageArea&#x27;, &#x27;WoodDeckSF&#x27;,\n",
       "       &#x27;OpenPorchSF&#x27;, &#x27;EnclosedPorch&#x27;, &#x27;3SsnPorch&#x27;, &#x27;ScreenPorch&#x27;, &#x27;PoolArea&#x27;,\n",
       "       &#x27;MiscVal&#x27;, &#x27;MoSold&#x27;, &#x27;YrSold&#x27;],\n",
       "      dtype=&#x27;object&#x27;)</pre></div></div></div><div class=\"sk-serial\"><div class=\"sk-item\"><div class=\"sk-serial\"><div class=\"sk-item\"><div class=\"sk-estimator sk-toggleable\"><input class=\"sk-toggleable__control sk-hidden--visually\" id=\"sk-estimator-id-5\" type=\"checkbox\" ><label for=\"sk-estimator-id-5\" class=\"sk-toggleable__label sk-toggleable__label-arrow\">SimpleImputer</label><div class=\"sk-toggleable__content\"><pre>SimpleImputer(strategy=&#x27;median&#x27;)</pre></div></div></div><div class=\"sk-item\"><div class=\"sk-estimator sk-toggleable\"><input class=\"sk-toggleable__control sk-hidden--visually\" id=\"sk-estimator-id-6\" type=\"checkbox\" ><label for=\"sk-estimator-id-6\" class=\"sk-toggleable__label sk-toggleable__label-arrow\">StandardScaler</label><div class=\"sk-toggleable__content\"><pre>StandardScaler()</pre></div></div></div></div></div></div></div></div><div class=\"sk-parallel-item\"><div class=\"sk-item\"><div class=\"sk-label-container\"><div class=\"sk-label sk-toggleable\"><input class=\"sk-toggleable__control sk-hidden--visually\" id=\"sk-estimator-id-7\" type=\"checkbox\" ><label for=\"sk-estimator-id-7\" class=\"sk-toggleable__label sk-toggleable__label-arrow\">categorical</label><div class=\"sk-toggleable__content\"><pre>Index([], dtype=&#x27;object&#x27;)</pre></div></div></div><div class=\"sk-serial\"><div class=\"sk-item\"><div class=\"sk-serial\"><div class=\"sk-item\"><div class=\"sk-estimator sk-toggleable\"><input class=\"sk-toggleable__control sk-hidden--visually\" id=\"sk-estimator-id-8\" type=\"checkbox\" ><label for=\"sk-estimator-id-8\" class=\"sk-toggleable__label sk-toggleable__label-arrow\">SimpleImputer</label><div class=\"sk-toggleable__content\"><pre>SimpleImputer(strategy=&#x27;most_frequent&#x27;)</pre></div></div></div><div class=\"sk-item\"><div class=\"sk-estimator sk-toggleable\"><input class=\"sk-toggleable__control sk-hidden--visually\" id=\"sk-estimator-id-9\" type=\"checkbox\" ><label for=\"sk-estimator-id-9\" class=\"sk-toggleable__label sk-toggleable__label-arrow\">OneHotEncoder</label><div class=\"sk-toggleable__content\"><pre>OneHotEncoder(handle_unknown=&#x27;ignore&#x27;)</pre></div></div></div></div></div></div></div></div></div></div><div class=\"sk-item\"><div class=\"sk-estimator sk-toggleable\"><input class=\"sk-toggleable__control sk-hidden--visually\" id=\"sk-estimator-id-10\" type=\"checkbox\" ><label for=\"sk-estimator-id-10\" class=\"sk-toggleable__label sk-toggleable__label-arrow\">SelectKBest</label><div class=\"sk-toggleable__content\"><pre>SelectKBest(score_func=&lt;function f_regression at 0x7b55fa1c1ea0&gt;)</pre></div></div></div><div class=\"sk-item\"><div class=\"sk-estimator sk-toggleable\"><input class=\"sk-toggleable__control sk-hidden--visually\" id=\"sk-estimator-id-11\" type=\"checkbox\" ><label for=\"sk-estimator-id-11\" class=\"sk-toggleable__label sk-toggleable__label-arrow\">RandomForestRegressor</label><div class=\"sk-toggleable__content\"><pre>RandomForestRegressor()</pre></div></div></div></div></div></div></div></div></div></div></div></div>"
      ],
      "text/plain": [
       "GridSearchCV(cv=5,\n",
       "             estimator=Pipeline(steps=[('preprocessor',\n",
       "                                        ColumnTransformer(transformers=[('numeric',\n",
       "                                                                         Pipeline(steps=[('imputer',\n",
       "                                                                                          SimpleImputer(strategy='median')),\n",
       "                                                                                         ('scaler',\n",
       "                                                                                          StandardScaler())]),\n",
       "                                                                         Index(['Id', 'MSSubClass', 'LotFrontage', 'LotArea', 'OverallQual',\n",
       "       'OverallCond', 'YearBuilt', 'YearRemodAdd', 'MasVnrArea', 'BsmtFinSF1',\n",
       "       'BsmtFinSF2', 'BsmtUnfSF', '...\n",
       "                                                                                          SimpleImputer(strategy='most_frequent')),\n",
       "                                                                                         ('encoder',\n",
       "                                                                                          OneHotEncoder(handle_unknown='ignore'))]),\n",
       "                                                                         Index([], dtype='object'))])),\n",
       "                                       ('feature_selector',\n",
       "                                        SelectKBest(score_func=<function f_regression at 0x7b55fa1c1ea0>)),\n",
       "                                       ('regressor', RandomForestRegressor())]),\n",
       "             param_grid={'feature_selector__k': [10, 20, 30],\n",
       "                         'regressor__max_depth': [None, 5, 10],\n",
       "                         'regressor__n_estimators': [100, 200, 300]})"
      ]
     },
     "execution_count": 9,
     "metadata": {},
     "output_type": "execute_result"
    }
   ],
   "source": [
    "# Perform grid search to find the best hyperparameters\n",
    "grid_search = GridSearchCV(pipeline, param_grid=param_grid, cv=5)\n",
    "grid_search.fit(X_train, y_train)"
   ]
  },
  {
   "cell_type": "markdown",
   "id": "68eced25",
   "metadata": {
    "papermill": {
     "duration": 0.012131,
     "end_time": "2023-07-15T14:26:09.198798",
     "exception": false,
     "start_time": "2023-07-15T14:26:09.186667",
     "status": "completed"
    },
    "tags": []
   },
   "source": [
    "### **9.** Get the best model from the grid search."
   ]
  },
  {
   "cell_type": "markdown",
   "id": "92fa3549",
   "metadata": {
    "papermill": {
     "duration": 0.011899,
     "end_time": "2023-07-15T14:26:09.223127",
     "exception": false,
     "start_time": "2023-07-15T14:26:09.211228",
     "status": "completed"
    },
    "tags": []
   },
   "source": [
    "In this code snippet, the best model from the grid search is obtained.\n",
    "\n",
    "\n",
    "After performing the grid search using `GridSearchCV`, the `grid_search` object contains information about the results of the search, including the best hyperparameters and the best model.\n",
    "\n",
    "The `best_estimator_` attribute of the `grid_search` object holds the machine learning pipeline that achieved the best performance based on the cross-validated evaluation metrics. This pipeline consists of the optimal combination of preprocessing steps, feature selection, and the Random Forest Regressor, as determined by the grid search.\n",
    "\n",
    "Now, the `best_model` variable contains the entire pipeline with the best hyperparameters. You can use this model to make predictions on new data or evaluate its performance on the test dataset. Since this model is fine-tuned using the best hyperparameters, it is expected to perform better than the default model configuration."
   ]
  },
  {
   "cell_type": "code",
   "execution_count": null,
   "id": "f497acdf",
   "metadata": {
    "execution": {
     "iopub.execute_input": "2023-07-15T14:26:09.250314Z",
     "iopub.status.busy": "2023-07-15T14:26:09.249841Z",
     "iopub.status.idle": "2023-07-15T14:26:09.254953Z",
     "shell.execute_reply": "2023-07-15T14:26:09.253628Z"
    },
    "papermill": {
     "duration": 0.022785,
     "end_time": "2023-07-15T14:26:09.258335",
     "exception": false,
     "start_time": "2023-07-15T14:26:09.235550",
     "status": "completed"
    },
    "tags": []
   },
   "outputs": [],
   "source": [
    "# Get the best model from grid search\n",
    "best_model = grid_search.best_estimator_"
   ]
  },
  {
   "cell_type": "markdown",
   "id": "d146d5df",
   "metadata": {
    "papermill": {
     "duration": 0.011973,
     "end_time": "2023-07-15T14:26:09.282750",
     "exception": false,
     "start_time": "2023-07-15T14:26:09.270777",
     "status": "completed"
    },
    "tags": []
   },
   "source": [
    "### **10.** Make predictions on the testing data using the best model."
   ]
  },
  {
   "cell_type": "markdown",
   "id": "e3686956",
   "metadata": {
    "papermill": {
     "duration": 0.011904,
     "end_time": "2023-07-15T14:26:09.307041",
     "exception": false,
     "start_time": "2023-07-15T14:26:09.295137",
     "status": "completed"
    },
    "tags": []
   },
   "source": [
    "In this code snippet, predictions are made on the testing data using the best model obtained from the grid search.\n",
    "\n",
    "The `predict` method of the `best_model` is used to generate predicted values for the target variable 'y' based on the features in the testing dataset 'X_test'. The model takes the preprocessed and selected features as input and produces predicted house prices as output.\n",
    "\n",
    "After executing this code, the `y_pred` variable holds the predicted house prices for the testing dataset. These predictions can now be used to evaluate the model's performance and compare it with the true house prices in the testing dataset.\n",
    "\n",
    "By comparing the predicted values (`y_pred`) with the true target values (`y_test`), you can assess the accuracy of the model's predictions and compute various evaluation metrics such as Root Mean Squared Error (RMSE), Mean Absolute Error (MAE), and R-squared. These metrics provide insights into how well the model is performing in predicting house prices on unseen data."
   ]
  },
  {
   "cell_type": "code",
   "execution_count": null,
   "id": "9cb9c605",
   "metadata": {
    "execution": {
     "iopub.execute_input": "2023-07-15T14:26:09.334390Z",
     "iopub.status.busy": "2023-07-15T14:26:09.333459Z",
     "iopub.status.idle": "2023-07-15T14:26:09.380002Z",
     "shell.execute_reply": "2023-07-15T14:26:09.378731Z"
    },
    "papermill": {
     "duration": 0.063876,
     "end_time": "2023-07-15T14:26:09.383289",
     "exception": false,
     "start_time": "2023-07-15T14:26:09.319413",
     "status": "completed"
    },
    "tags": []
   },
   "outputs": [],
   "source": [
    "# Make predictions on the testing data\n",
    "y_pred = best_model.predict(X_test)"
   ]
  },
  {
   "cell_type": "markdown",
   "id": "dbe03264",
   "metadata": {
    "papermill": {
     "duration": 0.01259,
     "end_time": "2023-07-15T14:26:09.408725",
     "exception": false,
     "start_time": "2023-07-15T14:26:09.396135",
     "status": "completed"
    },
    "tags": []
   },
   "source": [
    "### **11.** Calculate evaluation metrics including MSE, RMSE, MAE, and R-squared."
   ]
  },
  {
   "cell_type": "code",
   "execution_count": null,
   "id": "04f8cfc3",
   "metadata": {},
   "outputs": [],
   "source": [
    "lr_model = LinearRegression()\n",
    "lr_model.fit(X_train, y_train)\n",
    "lr_preds = lr_model.predict(X_test)\n"
   ]
  },
  {
   "cell_type": "markdown",
   "id": "2b1c58f8",
   "metadata": {},
   "source": [
    "gb_model = GradientBoostingRegressor(random_state=42)\n",
    "gb_model.fit(X_train, y_train)\n",
    "gb_preds = gb_model.predict(X_test)\n"
   ]
  },
  {
   "cell_type": "markdown",
   "id": "86662831",
   "metadata": {},
   "source": [
    "xgb_model = XGBRegressor(random_state=42)\n",
    "xgb_model.fit(X_train, y_train)\n",
    "xgb_preds = xgb_model.predict(X_test)\n"
   ]
  },
  {
   "cell_type": "markdown",
   "id": "4c0fa504",
   "metadata": {
    "papermill": {
     "duration": 0.012151,
     "end_time": "2023-07-15T14:26:09.434312",
     "exception": false,
     "start_time": "2023-07-15T14:26:09.422161",
     "status": "completed"
    },
    "tags": []
   },
   "source": [
    "In this code snippet, various evaluation metrics are calculated to assess the performance of the model on the testing data.\n",
    "\n",
    "- `mean_squared_error(y_test, y_pred)`: Calculates the Mean Squared Error (MSE) between the true target values (`y_test`) and the predicted values (`y_pred`). MSE measures the average squared difference between the predicted and true values. It provides an indication of the model's accuracy, with lower values indicating better performance.\n",
    "\n",
    "- `np.sqrt(mean_squared_error(y_test, y_pred))`: Computes the Root Mean Squared Error (RMSE) by taking the square root of the MSE. RMSE is another metric that measures the average prediction error but is in the same unit as the target variable (SalePrice). It is easier to interpret than MSE since it represents the average error in the same scale as the target variable.\n",
    "\n",
    "- `mean_absolute_error(y_test, y_pred)`: Calculates the Mean Absolute Error (MAE), which measures the average absolute difference between the predicted and true values. It provides a more interpretable measure of prediction accuracy.\n",
    "\n",
    "- `r2_score(y_test, y_pred)`: Computes the R-squared (R2) score, also known as the coefficient of determination. R2 indicates the proportion of the variance in the target variable (SalePrice) that is explained by the model. It ranges from 0 to 1, where higher values indicate a better fit of the model to the data.\n",
    "\n",
    "After calculating these metrics, they are printed to the console, providing a comprehensive evaluation of the model's performance on the testing data. By analyzing these metrics, you can gain insights into how well the model predicts house prices and assess its overall effectiveness in capturing the underlying relationships in the data."
   ]
  },
  {
   "cell_type": "code",
   "execution_count": null,
   "id": "073380ff",
   "metadata": {
    "execution": {
     "iopub.execute_input": "2023-07-15T14:26:09.461748Z",
     "iopub.status.busy": "2023-07-15T14:26:09.460971Z",
     "iopub.status.idle": "2023-07-15T14:26:09.470582Z",
     "shell.execute_reply": "2023-07-15T14:26:09.469099Z"
    },
    "papermill": {
     "duration": 0.026865,
     "end_time": "2023-07-15T14:26:09.473698",
     "exception": false,
     "start_time": "2023-07-15T14:26:09.446833",
     "status": "completed"
    },
    "tags": []
   },
   "outputs": [
    {
     "name": "stdout",
     "output_type": "stream",
     "text": [
      "Root Mean Squared Error (RMSE): 29309.827794785124\n",
      "Mean Absolute Error (MAE): 18100.190770547946\n",
      "R-squared: 0.8880013728027616\n"
     ]
    }
   ],
   "source": [
    "# Calculate evaluation metrics\n",
    "rmse = np.sqrt(mean_squared_error(y_test, y_pred))\n",
    "mae = mean_absolute_error(y_test, y_pred)\n",
    "r2 = r2_score(y_test, y_pred)\n",
    "\n",
    "print(\"Root Mean Squared Error (RMSE):\", rmse)\n",
    "print(\"Mean Absolute Error (MAE):\", mae)\n",
    "print(\"R-squared:\", r2)"
   ]
  },
  {
   "cell_type": "markdown",
   "id": "f5fa3d04",
   "metadata": {},
   "source": [
    "def evaluate_model(y_true, y_pred, model_name=\"Model\"):\n",
    "    mae = mean_absolute_error(y_true, y_pred)\n",
    "    rmse = np.sqrt(mean_squared_error(y_true, y_pred))\n",
    "    r2 = r2_score(y_true, y_pred)\n",
    "\n",
    "    print(f\"--- {model_name} ---\")\n",
    "    print(f\"MAE: {mae:.2f}\")\n",
    "    print(f\"RMSE: {rmse:.2f}\")\n",
    "    print(f\"R² Score: {r2:.2f}\")\n",
    "    print()\n"
   ]
  },
  {
   "cell_type": "markdown",
   "id": "35443945",
   "metadata": {},
   "source": [
    "evaluate_model(y_test, lr_preds, \"Linear Regression\")\n",
    "evaluate_model(y_test, gb_preds, \"Gradient Boosting\")\n",
    "evaluate_model(y_test, xgb_preds, \"XGBoost\")\n"
   ]
  },
  {
   "cell_type": "markdown",
   "id": "413b33c6",
   "metadata": {
    "papermill": {
     "duration": 0.012235,
     "end_time": "2023-07-15T14:26:09.498648",
     "exception": false,
     "start_time": "2023-07-15T14:26:09.486413",
     "status": "completed"
    },
    "tags": []
   },
   "source": [
    "### See the result"
   ]
  },
  {
   "cell_type": "markdown",
   "id": "5357b2fb",
   "metadata": {
    "papermill": {
     "duration": 0.012095,
     "end_time": "2023-07-15T14:26:09.523422",
     "exception": false,
     "start_time": "2023-07-15T14:26:09.511327",
     "status": "completed"
    },
    "tags": []
   },
   "source": [
    "You can add the predicted values `y_pred` to the actual dataset `X_test` along with the true target values `y_test` to observe the differences between the predicted and true values. Here's how you can do it using pandas:\n",
    "\n",
    "```python\n",
    "y_pred_series = pd.Series(y_pred, name='Predicted_SalePrice')\n",
    "\n",
    "y_test_series = pd.Series(y_test.values, name='True_SalePrice')\n",
    "\n",
    "result_df = pd.concat([X_test, y_pred_series, y_test_series], axis=1)\n",
    "\n",
    "```\n",
    "\n",
    "This will create a new DataFrame `result_df` that contains the original features in `X_test`, the predicted SalePrice values in a new column 'Predicted_SalePrice', and the true SalePrice values in a new column 'True_SalePrice'. You can then examine this DataFrame to compare the predicted and true values side by side and analyze the differences between them."
   ]
  },
  {
   "cell_type": "code",
   "execution_count": null,
   "id": "eaa6a8c1",
   "metadata": {
    "execution": {
     "iopub.execute_input": "2023-07-15T14:26:09.550481Z",
     "iopub.status.busy": "2023-07-15T14:26:09.549994Z",
     "iopub.status.idle": "2023-07-15T14:26:09.615478Z",
     "shell.execute_reply": "2023-07-15T14:26:09.614523Z"
    },
    "papermill": {
     "duration": 0.081759,
     "end_time": "2023-07-15T14:26:09.617736",
     "exception": false,
     "start_time": "2023-07-15T14:26:09.535977",
     "status": "completed"
    },
    "tags": []
   },
   "outputs": [
    {
     "data": {
      "text/html": [
       "<div>\n",
       "<style scoped>\n",
       "    .dataframe tbody tr th:only-of-type {\n",
       "        vertical-align: middle;\n",
       "    }\n",
       "\n",
       "    .dataframe tbody tr th {\n",
       "        vertical-align: top;\n",
       "    }\n",
       "\n",
       "    .dataframe thead th {\n",
       "        text-align: right;\n",
       "    }\n",
       "</style>\n",
       "<table border=\"1\" class=\"dataframe\">\n",
       "  <thead>\n",
       "    <tr style=\"text-align: right;\">\n",
       "      <th></th>\n",
       "      <th>Id</th>\n",
       "      <th>MSSubClass</th>\n",
       "      <th>LotFrontage</th>\n",
       "      <th>LotArea</th>\n",
       "      <th>OverallQual</th>\n",
       "      <th>OverallCond</th>\n",
       "      <th>YearBuilt</th>\n",
       "      <th>YearRemodAdd</th>\n",
       "      <th>MasVnrArea</th>\n",
       "      <th>BsmtFinSF1</th>\n",
       "      <th>...</th>\n",
       "      <th>OpenPorchSF</th>\n",
       "      <th>EnclosedPorch</th>\n",
       "      <th>3SsnPorch</th>\n",
       "      <th>ScreenPorch</th>\n",
       "      <th>PoolArea</th>\n",
       "      <th>MiscVal</th>\n",
       "      <th>MoSold</th>\n",
       "      <th>YrSold</th>\n",
       "      <th>Predicted_SalePrice</th>\n",
       "      <th>True_SalePrice</th>\n",
       "    </tr>\n",
       "  </thead>\n",
       "  <tbody>\n",
       "    <tr>\n",
       "      <th>892</th>\n",
       "      <td>893.0</td>\n",
       "      <td>20.0</td>\n",
       "      <td>70.0</td>\n",
       "      <td>8414.0</td>\n",
       "      <td>6.0</td>\n",
       "      <td>8.0</td>\n",
       "      <td>1963.0</td>\n",
       "      <td>2003.0</td>\n",
       "      <td>0.0</td>\n",
       "      <td>663.0</td>\n",
       "      <td>...</td>\n",
       "      <td>0.0</td>\n",
       "      <td>0.0</td>\n",
       "      <td>0.0</td>\n",
       "      <td>0.0</td>\n",
       "      <td>0.0</td>\n",
       "      <td>0.0</td>\n",
       "      <td>2.0</td>\n",
       "      <td>2006.0</td>\n",
       "      <td>NaN</td>\n",
       "      <td>NaN</td>\n",
       "    </tr>\n",
       "    <tr>\n",
       "      <th>1105</th>\n",
       "      <td>1106.0</td>\n",
       "      <td>60.0</td>\n",
       "      <td>98.0</td>\n",
       "      <td>12256.0</td>\n",
       "      <td>8.0</td>\n",
       "      <td>5.0</td>\n",
       "      <td>1994.0</td>\n",
       "      <td>1995.0</td>\n",
       "      <td>362.0</td>\n",
       "      <td>1032.0</td>\n",
       "      <td>...</td>\n",
       "      <td>32.0</td>\n",
       "      <td>0.0</td>\n",
       "      <td>0.0</td>\n",
       "      <td>0.0</td>\n",
       "      <td>0.0</td>\n",
       "      <td>0.0</td>\n",
       "      <td>4.0</td>\n",
       "      <td>2010.0</td>\n",
       "      <td>NaN</td>\n",
       "      <td>NaN</td>\n",
       "    </tr>\n",
       "    <tr>\n",
       "      <th>413</th>\n",
       "      <td>414.0</td>\n",
       "      <td>30.0</td>\n",
       "      <td>56.0</td>\n",
       "      <td>8960.0</td>\n",
       "      <td>5.0</td>\n",
       "      <td>6.0</td>\n",
       "      <td>1927.0</td>\n",
       "      <td>1950.0</td>\n",
       "      <td>0.0</td>\n",
       "      <td>0.0</td>\n",
       "      <td>...</td>\n",
       "      <td>0.0</td>\n",
       "      <td>130.0</td>\n",
       "      <td>0.0</td>\n",
       "      <td>0.0</td>\n",
       "      <td>0.0</td>\n",
       "      <td>0.0</td>\n",
       "      <td>3.0</td>\n",
       "      <td>2010.0</td>\n",
       "      <td>NaN</td>\n",
       "      <td>NaN</td>\n",
       "    </tr>\n",
       "    <tr>\n",
       "      <th>522</th>\n",
       "      <td>523.0</td>\n",
       "      <td>50.0</td>\n",
       "      <td>50.0</td>\n",
       "      <td>5000.0</td>\n",
       "      <td>6.0</td>\n",
       "      <td>7.0</td>\n",
       "      <td>1947.0</td>\n",
       "      <td>1950.0</td>\n",
       "      <td>0.0</td>\n",
       "      <td>399.0</td>\n",
       "      <td>...</td>\n",
       "      <td>24.0</td>\n",
       "      <td>36.0</td>\n",
       "      <td>0.0</td>\n",
       "      <td>0.0</td>\n",
       "      <td>0.0</td>\n",
       "      <td>0.0</td>\n",
       "      <td>10.0</td>\n",
       "      <td>2006.0</td>\n",
       "      <td>NaN</td>\n",
       "      <td>NaN</td>\n",
       "    </tr>\n",
       "    <tr>\n",
       "      <th>1036</th>\n",
       "      <td>1037.0</td>\n",
       "      <td>20.0</td>\n",
       "      <td>89.0</td>\n",
       "      <td>12898.0</td>\n",
       "      <td>9.0</td>\n",
       "      <td>5.0</td>\n",
       "      <td>2007.0</td>\n",
       "      <td>2008.0</td>\n",
       "      <td>70.0</td>\n",
       "      <td>1022.0</td>\n",
       "      <td>...</td>\n",
       "      <td>0.0</td>\n",
       "      <td>0.0</td>\n",
       "      <td>0.0</td>\n",
       "      <td>0.0</td>\n",
       "      <td>0.0</td>\n",
       "      <td>0.0</td>\n",
       "      <td>9.0</td>\n",
       "      <td>2009.0</td>\n",
       "      <td>NaN</td>\n",
       "      <td>NaN</td>\n",
       "    </tr>\n",
       "    <tr>\n",
       "      <th>...</th>\n",
       "      <td>...</td>\n",
       "      <td>...</td>\n",
       "      <td>...</td>\n",
       "      <td>...</td>\n",
       "      <td>...</td>\n",
       "      <td>...</td>\n",
       "      <td>...</td>\n",
       "      <td>...</td>\n",
       "      <td>...</td>\n",
       "      <td>...</td>\n",
       "      <td>...</td>\n",
       "      <td>...</td>\n",
       "      <td>...</td>\n",
       "      <td>...</td>\n",
       "      <td>...</td>\n",
       "      <td>...</td>\n",
       "      <td>...</td>\n",
       "      <td>...</td>\n",
       "      <td>...</td>\n",
       "      <td>...</td>\n",
       "      <td>...</td>\n",
       "    </tr>\n",
       "    <tr>\n",
       "      <th>286</th>\n",
       "      <td>NaN</td>\n",
       "      <td>NaN</td>\n",
       "      <td>NaN</td>\n",
       "      <td>NaN</td>\n",
       "      <td>NaN</td>\n",
       "      <td>NaN</td>\n",
       "      <td>NaN</td>\n",
       "      <td>NaN</td>\n",
       "      <td>NaN</td>\n",
       "      <td>NaN</td>\n",
       "      <td>...</td>\n",
       "      <td>NaN</td>\n",
       "      <td>NaN</td>\n",
       "      <td>NaN</td>\n",
       "      <td>NaN</td>\n",
       "      <td>NaN</td>\n",
       "      <td>NaN</td>\n",
       "      <td>NaN</td>\n",
       "      <td>NaN</td>\n",
       "      <td>227146.645</td>\n",
       "      <td>230000.0</td>\n",
       "    </tr>\n",
       "    <tr>\n",
       "      <th>287</th>\n",
       "      <td>NaN</td>\n",
       "      <td>NaN</td>\n",
       "      <td>NaN</td>\n",
       "      <td>NaN</td>\n",
       "      <td>NaN</td>\n",
       "      <td>NaN</td>\n",
       "      <td>NaN</td>\n",
       "      <td>NaN</td>\n",
       "      <td>NaN</td>\n",
       "      <td>NaN</td>\n",
       "      <td>...</td>\n",
       "      <td>NaN</td>\n",
       "      <td>NaN</td>\n",
       "      <td>NaN</td>\n",
       "      <td>NaN</td>\n",
       "      <td>NaN</td>\n",
       "      <td>NaN</td>\n",
       "      <td>NaN</td>\n",
       "      <td>NaN</td>\n",
       "      <td>119098.875</td>\n",
       "      <td>89471.0</td>\n",
       "    </tr>\n",
       "    <tr>\n",
       "      <th>288</th>\n",
       "      <td>NaN</td>\n",
       "      <td>NaN</td>\n",
       "      <td>NaN</td>\n",
       "      <td>NaN</td>\n",
       "      <td>NaN</td>\n",
       "      <td>NaN</td>\n",
       "      <td>NaN</td>\n",
       "      <td>NaN</td>\n",
       "      <td>NaN</td>\n",
       "      <td>NaN</td>\n",
       "      <td>...</td>\n",
       "      <td>NaN</td>\n",
       "      <td>NaN</td>\n",
       "      <td>NaN</td>\n",
       "      <td>NaN</td>\n",
       "      <td>NaN</td>\n",
       "      <td>NaN</td>\n",
       "      <td>NaN</td>\n",
       "      <td>NaN</td>\n",
       "      <td>235196.155</td>\n",
       "      <td>260000.0</td>\n",
       "    </tr>\n",
       "    <tr>\n",
       "      <th>290</th>\n",
       "      <td>NaN</td>\n",
       "      <td>NaN</td>\n",
       "      <td>NaN</td>\n",
       "      <td>NaN</td>\n",
       "      <td>NaN</td>\n",
       "      <td>NaN</td>\n",
       "      <td>NaN</td>\n",
       "      <td>NaN</td>\n",
       "      <td>NaN</td>\n",
       "      <td>NaN</td>\n",
       "      <td>...</td>\n",
       "      <td>NaN</td>\n",
       "      <td>NaN</td>\n",
       "      <td>NaN</td>\n",
       "      <td>NaN</td>\n",
       "      <td>NaN</td>\n",
       "      <td>NaN</td>\n",
       "      <td>NaN</td>\n",
       "      <td>NaN</td>\n",
       "      <td>136779.415</td>\n",
       "      <td>108000.0</td>\n",
       "    </tr>\n",
       "    <tr>\n",
       "      <th>291</th>\n",
       "      <td>NaN</td>\n",
       "      <td>NaN</td>\n",
       "      <td>NaN</td>\n",
       "      <td>NaN</td>\n",
       "      <td>NaN</td>\n",
       "      <td>NaN</td>\n",
       "      <td>NaN</td>\n",
       "      <td>NaN</td>\n",
       "      <td>NaN</td>\n",
       "      <td>NaN</td>\n",
       "      <td>...</td>\n",
       "      <td>NaN</td>\n",
       "      <td>NaN</td>\n",
       "      <td>NaN</td>\n",
       "      <td>NaN</td>\n",
       "      <td>NaN</td>\n",
       "      <td>NaN</td>\n",
       "      <td>NaN</td>\n",
       "      <td>NaN</td>\n",
       "      <td>115812.000</td>\n",
       "      <td>124500.0</td>\n",
       "    </tr>\n",
       "  </tbody>\n",
       "</table>\n",
       "<p>531 rows × 39 columns</p>\n",
       "</div>"
      ],
      "text/plain": [
       "          Id  MSSubClass  LotFrontage  LotArea  OverallQual  OverallCond  \\\n",
       "892    893.0        20.0         70.0   8414.0          6.0          8.0   \n",
       "1105  1106.0        60.0         98.0  12256.0          8.0          5.0   \n",
       "413    414.0        30.0         56.0   8960.0          5.0          6.0   \n",
       "522    523.0        50.0         50.0   5000.0          6.0          7.0   \n",
       "1036  1037.0        20.0         89.0  12898.0          9.0          5.0   \n",
       "...      ...         ...          ...      ...          ...          ...   \n",
       "286      NaN         NaN          NaN      NaN          NaN          NaN   \n",
       "287      NaN         NaN          NaN      NaN          NaN          NaN   \n",
       "288      NaN         NaN          NaN      NaN          NaN          NaN   \n",
       "290      NaN         NaN          NaN      NaN          NaN          NaN   \n",
       "291      NaN         NaN          NaN      NaN          NaN          NaN   \n",
       "\n",
       "      YearBuilt  YearRemodAdd  MasVnrArea  BsmtFinSF1  ...  OpenPorchSF  \\\n",
       "892      1963.0        2003.0         0.0       663.0  ...          0.0   \n",
       "1105     1994.0        1995.0       362.0      1032.0  ...         32.0   \n",
       "413      1927.0        1950.0         0.0         0.0  ...          0.0   \n",
       "522      1947.0        1950.0         0.0       399.0  ...         24.0   \n",
       "1036     2007.0        2008.0        70.0      1022.0  ...          0.0   \n",
       "...         ...           ...         ...         ...  ...          ...   \n",
       "286         NaN           NaN         NaN         NaN  ...          NaN   \n",
       "287         NaN           NaN         NaN         NaN  ...          NaN   \n",
       "288         NaN           NaN         NaN         NaN  ...          NaN   \n",
       "290         NaN           NaN         NaN         NaN  ...          NaN   \n",
       "291         NaN           NaN         NaN         NaN  ...          NaN   \n",
       "\n",
       "      EnclosedPorch  3SsnPorch  ScreenPorch  PoolArea  MiscVal  MoSold  \\\n",
       "892             0.0        0.0          0.0       0.0      0.0     2.0   \n",
       "1105            0.0        0.0          0.0       0.0      0.0     4.0   \n",
       "413           130.0        0.0          0.0       0.0      0.0     3.0   \n",
       "522            36.0        0.0          0.0       0.0      0.0    10.0   \n",
       "1036            0.0        0.0          0.0       0.0      0.0     9.0   \n",
       "...             ...        ...          ...       ...      ...     ...   \n",
       "286             NaN        NaN          NaN       NaN      NaN     NaN   \n",
       "287             NaN        NaN          NaN       NaN      NaN     NaN   \n",
       "288             NaN        NaN          NaN       NaN      NaN     NaN   \n",
       "290             NaN        NaN          NaN       NaN      NaN     NaN   \n",
       "291             NaN        NaN          NaN       NaN      NaN     NaN   \n",
       "\n",
       "      YrSold  Predicted_SalePrice  True_SalePrice  \n",
       "892   2006.0                  NaN             NaN  \n",
       "1105  2010.0                  NaN             NaN  \n",
       "413   2010.0                  NaN             NaN  \n",
       "522   2006.0                  NaN             NaN  \n",
       "1036  2009.0                  NaN             NaN  \n",
       "...      ...                  ...             ...  \n",
       "286      NaN           227146.645        230000.0  \n",
       "287      NaN           119098.875         89471.0  \n",
       "288      NaN           235196.155        260000.0  \n",
       "290      NaN           136779.415        108000.0  \n",
       "291      NaN           115812.000        124500.0  \n",
       "\n",
       "[531 rows x 39 columns]"
      ]
     },
     "execution_count": 13,
     "metadata": {},
     "output_type": "execute_result"
    }
   ],
   "source": [
    "# Convert the predicted values y_pred to a pandas Series\n",
    "y_pred_series = pd.Series(y_pred, name='Predicted_SalePrice')\n",
    "\n",
    "# Convert the true target values y_test to a pandas Series\n",
    "y_test_series = pd.Series(y_test.values, name='True_SalePrice')\n",
    "\n",
    "# Concatenate the actual dataset X_test with the predicted and true SalePrice columns\n",
    "result_df = pd.concat([X_test, y_pred_series, y_test_series], axis=1)\n",
    "\n",
    "# Print the result_df to see the differences between predicted and true values\n",
    "result_df"
   ]
  },
  {
   "cell_type": "code",
   "execution_count": null,
   "id": "8df1e8e6",
   "metadata": {
    "execution": {
     "iopub.execute_input": "2023-07-15T14:26:09.649449Z",
     "iopub.status.busy": "2023-07-15T14:26:09.648746Z",
     "iopub.status.idle": "2023-07-15T14:26:09.676455Z",
     "shell.execute_reply": "2023-07-15T14:26:09.675042Z"
    },
    "papermill": {
     "duration": 0.04662,
     "end_time": "2023-07-15T14:26:09.679479",
     "exception": false,
     "start_time": "2023-07-15T14:26:09.632859",
     "status": "completed"
    },
    "tags": []
   },
   "outputs": [],
   "source": [
    "result_df.to_csv('House_Prediction_Result', index=False)"
   ]
  },
  {
   "cell_type": "code",
   "execution_count": null,
   "id": "111f58d8",
   "metadata": {
    "execution": {
     "iopub.execute_input": "2023-07-15T14:26:09.709258Z",
     "iopub.status.busy": "2023-07-15T14:26:09.708776Z",
     "iopub.status.idle": "2023-07-15T14:26:09.726553Z",
     "shell.execute_reply": "2023-07-15T14:26:09.725621Z"
    },
    "papermill": {
     "duration": 0.03554,
     "end_time": "2023-07-15T14:26:09.729022",
     "exception": false,
     "start_time": "2023-07-15T14:26:09.693482",
     "status": "completed"
    },
    "tags": []
   },
   "outputs": [
    {
     "data": {
      "text/html": [
       "<div>\n",
       "<style scoped>\n",
       "    .dataframe tbody tr th:only-of-type {\n",
       "        vertical-align: middle;\n",
       "    }\n",
       "\n",
       "    .dataframe tbody tr th {\n",
       "        vertical-align: top;\n",
       "    }\n",
       "\n",
       "    .dataframe thead th {\n",
       "        text-align: right;\n",
       "    }\n",
       "</style>\n",
       "<table border=\"1\" class=\"dataframe\">\n",
       "  <thead>\n",
       "    <tr style=\"text-align: right;\">\n",
       "      <th></th>\n",
       "      <th>Predicted_SalePrice</th>\n",
       "      <th>True_SalePrice</th>\n",
       "    </tr>\n",
       "  </thead>\n",
       "  <tbody>\n",
       "    <tr>\n",
       "      <th>892</th>\n",
       "      <td>NaN</td>\n",
       "      <td>NaN</td>\n",
       "    </tr>\n",
       "    <tr>\n",
       "      <th>1105</th>\n",
       "      <td>NaN</td>\n",
       "      <td>NaN</td>\n",
       "    </tr>\n",
       "    <tr>\n",
       "      <th>413</th>\n",
       "      <td>NaN</td>\n",
       "      <td>NaN</td>\n",
       "    </tr>\n",
       "    <tr>\n",
       "      <th>522</th>\n",
       "      <td>NaN</td>\n",
       "      <td>NaN</td>\n",
       "    </tr>\n",
       "    <tr>\n",
       "      <th>1036</th>\n",
       "      <td>NaN</td>\n",
       "      <td>NaN</td>\n",
       "    </tr>\n",
       "    <tr>\n",
       "      <th>...</th>\n",
       "      <td>...</td>\n",
       "      <td>...</td>\n",
       "    </tr>\n",
       "    <tr>\n",
       "      <th>286</th>\n",
       "      <td>227146.645</td>\n",
       "      <td>230000.0</td>\n",
       "    </tr>\n",
       "    <tr>\n",
       "      <th>287</th>\n",
       "      <td>119098.875</td>\n",
       "      <td>89471.0</td>\n",
       "    </tr>\n",
       "    <tr>\n",
       "      <th>288</th>\n",
       "      <td>235196.155</td>\n",
       "      <td>260000.0</td>\n",
       "    </tr>\n",
       "    <tr>\n",
       "      <th>290</th>\n",
       "      <td>136779.415</td>\n",
       "      <td>108000.0</td>\n",
       "    </tr>\n",
       "    <tr>\n",
       "      <th>291</th>\n",
       "      <td>115812.000</td>\n",
       "      <td>124500.0</td>\n",
       "    </tr>\n",
       "  </tbody>\n",
       "</table>\n",
       "<p>531 rows × 2 columns</p>\n",
       "</div>"
      ],
      "text/plain": [
       "      Predicted_SalePrice  True_SalePrice\n",
       "892                   NaN             NaN\n",
       "1105                  NaN             NaN\n",
       "413                   NaN             NaN\n",
       "522                   NaN             NaN\n",
       "1036                  NaN             NaN\n",
       "...                   ...             ...\n",
       "286            227146.645        230000.0\n",
       "287            119098.875         89471.0\n",
       "288            235196.155        260000.0\n",
       "290            136779.415        108000.0\n",
       "291            115812.000        124500.0\n",
       "\n",
       "[531 rows x 2 columns]"
      ]
     },
     "execution_count": 15,
     "metadata": {},
     "output_type": "execute_result"
    }
   ],
   "source": [
    "last_two_columns = result_df.columns[-2:]\n",
    "\n",
    "# Create a new DataFrame with only the last two columns\n",
    "df_new = result_df[last_two_columns]\n",
    "df_new"
   ]
  },
  {
   "cell_type": "code",
   "execution_count": null,
   "id": "2aa53935",
   "metadata": {
    "execution": {
     "iopub.execute_input": "2023-07-15T14:26:09.758777Z",
     "iopub.status.busy": "2023-07-15T14:26:09.758358Z",
     "iopub.status.idle": "2023-07-15T14:26:09.767001Z",
     "shell.execute_reply": "2023-07-15T14:26:09.765852Z"
    },
    "papermill": {
     "duration": 0.026864,
     "end_time": "2023-07-15T14:26:09.769794",
     "exception": false,
     "start_time": "2023-07-15T14:26:09.742930",
     "status": "completed"
    },
    "tags": []
   },
   "outputs": [],
   "source": [
    "df_new.to_csv('House_Prediction_Result_Price', index=False)"
   ]
  }
 ],
 "metadata": {
  "kernelspec": {
   "display_name": "Python 3",
   "language": "python",
   "name": "python3"
  },
  "language_info": {
   "codemirror_mode": {
    "name": "ipython",
    "version": 3
   },
   "file_extension": ".py",
   "mimetype": "text/x-python",
   "name": "python",
   "nbconvert_exporter": "python",
   "pygments_lexer": "ipython3",
   "version": "3.10.12"
  },
  "papermill": {
   "default_parameters": {},
   "duration": 226.41318,
   "end_time": "2023-07-15T14:26:11.310627",
   "environment_variables": {},
   "exception": null,
   "input_path": "__notebook__.ipynb",
   "output_path": "__notebook__.ipynb",
   "parameters": {},
   "start_time": "2023-07-15T14:22:24.897447",
   "version": "2.4.0"
  }
 },
 "nbformat": 4,
 "nbformat_minor": 5
}
